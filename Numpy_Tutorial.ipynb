{
  "nbformat": 4,
  "nbformat_minor": 0,
  "metadata": {
    "colab": {
      "provenance": []
    },
    "kernelspec": {
      "name": "python3",
      "display_name": "Python 3"
    },
    "language_info": {
      "name": "python"
    }
  },
  "cells": [
    {
      "cell_type": "markdown",
      "source": [
        "# **NUMPY**"
      ],
      "metadata": {
        "id": "QBA0n8zQp760"
      }
    },
    {
      "cell_type": "markdown",
      "source": [
        "Numpy is short for Numerical Python. That means it's a Python library that allows us to perform numerical operations.\n",
        "\n",
        "The basic building block of Numpy is arrays, or an ndarray. An array is a grid of values of the same type and is indexed by a tuple of non-negative integers. A tuple of non negative integers is simply something like this: [1,2]. This means the array is one dimensional with two elements. Simply put, it has 1 column and 2 rows.\n",
        "\n",
        "## Key Features of arrays\n",
        "1. Homogeneous: All elements in a NumPy array must be of the same type.\n",
        "2. Fixed Size: The size of a NumPy array is fixed at the time of creation.\n",
        "3. Multidimensional: Arrays can have multiple dimensions (1D, 2D, 3D, etc.).\n",
        "\n",
        "Arrays are faster than lists in Python because of the following reasons:\n",
        "1. They are homogeneous. Because an array can only have items of the same data type, it's easier to work this kind of data than lists which can contain any type of data.\n",
        "2. Element wise operations - By virtue of arrays being of the same data type, you can easily perform operations on them like addition, multiplication e.t.c, at once as opposed to step by step, or iterations like in lists.\n",
        "\n",
        "What is described above is what is called vectorization. In Python vectorization describes the absence of any explicit looping, indexing, etc, in the code.\n",
        "\n",
        "### Advantages of vectorization:\n",
        "\n",
        "1. vectorized code is more concise and easier to read\n",
        "\n",
        "2. fewer lines of code generally means fewer bugs the code more closely resembles standard mathematical notation (making it easier, typically, to correctly code mathematical constructs)\n",
        "3. vectorization results in more “Pythonic” code. Without vectorization, our code would be littered with inefficient and difficult to read for loops."
      ],
      "metadata": {
        "id": "aXUU5qbEqFQs"
      }
    },
    {
      "cell_type": "markdown",
      "source": [
        "## Creating Arrays\n",
        "\n",
        "Arrays can be created from lists, tuples, dictionaries e.t.c or using numpy functions."
      ],
      "metadata": {
        "id": "iRC3QhBGqFM8"
      }
    },
    {
      "cell_type": "code",
      "source": [
        "import numpy as np\n",
        "\n",
        "## Creating arrays from lists\n",
        "list1 = [1,2,3,4,5]\n",
        "list1_array = np.array(list1)\n",
        "list1_array"
      ],
      "metadata": {
        "colab": {
          "base_uri": "https://localhost:8080/"
        },
        "id": "QmFM9MSrqU92",
        "outputId": "5f000149-02d4-4eda-949f-af76fb22025d"
      },
      "execution_count": 2,
      "outputs": [
        {
          "output_type": "execute_result",
          "data": {
            "text/plain": [
              "array([1, 2, 3, 4, 5])"
            ]
          },
          "metadata": {},
          "execution_count": 2
        }
      ]
    },
    {
      "cell_type": "code",
      "source": [
        "## Using numpy functions\n",
        "\n",
        "a = np.zeros((2, 3))  # Array of zeros\n",
        "\n",
        "b = np.ones((2, 3))  # Array of ones\n",
        "\n",
        "c = np.eye(3)  # Identity matrix\n",
        "\n",
        "d = np.arange(10)  # Array of integers from 0 to 9\n",
        "\n",
        "e = np.linspace(0, 1, 5)  # 5 evenly spaced numbers from 0 to 1\n",
        "\n",
        "print(\"This is the first array\", a)\n",
        "print(\"\\n This is the second array\", b)\n",
        "print(\"\\n This is the third array\", c)\n",
        "print(\"\\n This is the fourth array\", d)\n",
        "print(\"\\n This is the fifth array\", e)"
      ],
      "metadata": {
        "colab": {
          "base_uri": "https://localhost:8080/"
        },
        "id": "weFqNVg2qkyx",
        "outputId": "1f192e09-6500-4086-f37d-13ce0c16366a"
      },
      "execution_count": 6,
      "outputs": [
        {
          "output_type": "stream",
          "name": "stdout",
          "text": [
            "This is the first array [[0. 0. 0.]\n",
            " [0. 0. 0.]]\n",
            "\n",
            " This is the second array [[1. 1. 1.]\n",
            " [1. 1. 1.]]\n",
            "\n",
            " This is the third array [[1. 0. 0.]\n",
            " [0. 1. 0.]\n",
            " [0. 0. 1.]]\n",
            "\n",
            " This is the fourth array [0 1 2 3 4 5 6 7 8 9]\n",
            "\n",
            " This is the fifth array [0.   0.25 0.5  0.75 1.  ]\n"
          ]
        }
      ]
    },
    {
      "cell_type": "markdown",
      "source": [
        "### Operations on arrays"
      ],
      "metadata": {
        "id": "95KRnKa5qFIh"
      }
    },
    {
      "cell_type": "markdown",
      "source": [],
      "metadata": {
        "id": "Ijb01ViKqE6O"
      }
    },
    {
      "cell_type": "code",
      "execution_count": 7,
      "metadata": {
        "colab": {
          "base_uri": "https://localhost:8080/"
        },
        "id": "KwKBOqFup3CI",
        "outputId": "e6676dcb-da26-4902-a27f-bb4561c213b5"
      },
      "outputs": [
        {
          "output_type": "stream",
          "name": "stdout",
          "text": [
            "This is addition [ 6  8 10 12]\n",
            "This is multiplication [ 5 12 21 32]\n"
          ]
        }
      ],
      "source": [
        "## Element-wise operations:\n",
        "\n",
        "a = np.array([1, 2, 3, 4])\n",
        "b = np.array([5, 6, 7, 8])\n",
        "\n",
        "c = a + b  # Element-wise addition\n",
        "d = a * b  # Element-wise multiplication\n",
        "\n",
        "print(\"This is addition\", c)\n",
        "print(\"This is multiplication\", d)"
      ]
    },
    {
      "cell_type": "markdown",
      "source": [
        "##\n",
        "\n",
        "```\n",
        "# This is formatted as code\n",
        "```\n",
        "\n",
        "Array slicing and indexing:"
      ],
      "metadata": {
        "id": "Q2oK9_Kirufy"
      }
    },
    {
      "cell_type": "code",
      "source": [
        "## Array slicing and indexing:\n",
        "\n",
        "a = np.array([1, 2, 3, 4, 5])\n",
        "\n",
        "print(\"First element is\", a[0])  # First element\n",
        "print(\"Elements from index 1 to 2\", a[1:3])  # Elements from index 1 to 2\n",
        "print(\"First three elements are\", a[:3])  # First three elements\n",
        "print(\"Every second element\", a[::2])  # Every second element"
      ],
      "metadata": {
        "colab": {
          "base_uri": "https://localhost:8080/"
        },
        "id": "TlEuuy6hrnE7",
        "outputId": "2004e6f7-8e18-453b-ca46-e190e3053df1"
      },
      "execution_count": 8,
      "outputs": [
        {
          "output_type": "stream",
          "name": "stdout",
          "text": [
            "First element is 1\n",
            "Elements from index 1 to 2 [2 3]\n",
            "First three elements are [1 2 3]\n",
            "Every second element [1 3 5]\n"
          ]
        }
      ]
    },
    {
      "cell_type": "markdown",
      "source": [
        "## Array Dimensions\n"
      ],
      "metadata": {
        "id": "Farb-jvhsUUY"
      }
    },
    {
      "cell_type": "code",
      "source": [
        "# 0-D array - scalar\n",
        "arr0 = np.array(42)\n",
        "print(\"This is a 0-dimension array\", arr0)\n",
        "# 1-D array\n",
        "arr1 = np.array([1, 2, 3, 4, 5])\n",
        "print(\"This is a 1-dimensional array\", arr1)\n",
        "\n",
        "# 2-D array\n",
        "arr2 = np.array([[1, 2, 3], [4, 5, 6]])\n",
        "print(\"This is a 2-dimensional array\", arr2)\n",
        "\n",
        "# 3-D array - An array of 2D arrays\n",
        "arr3 = np.array([[[1, 2, 3], [4, 5, 6]], [[1, 2, 3], [4, 5, 6]]])\n",
        "print(\"This is a 3-dimensional array\", arr3)"
      ],
      "metadata": {
        "colab": {
          "base_uri": "https://localhost:8080/"
        },
        "id": "B_yCIaDLsQ4c",
        "outputId": "43b04888-5777-4c56-da93-08f2e212e27d"
      },
      "execution_count": 10,
      "outputs": [
        {
          "output_type": "stream",
          "name": "stdout",
          "text": [
            "This is a 0-dimension array 42\n",
            "This is a 1-dimensional array [1 2 3 4 5]\n",
            "This is a 2-dimensional array [[1 2 3]\n",
            " [4 5 6]]\n",
            "This is a 3-dimensional array [[[1 2 3]\n",
            "  [4 5 6]]\n",
            "\n",
            " [[1 2 3]\n",
            "  [4 5 6]]]\n"
          ]
        }
      ]
    },
    {
      "cell_type": "markdown",
      "source": [
        "### Creating an n-dimensional array"
      ],
      "metadata": {
        "id": "k3xkHGsBs3pa"
      }
    },
    {
      "cell_type": "code",
      "source": [
        "## We use ndmin to specify the dimensions of an array\n",
        "\n",
        "# We use ndmin to specify the dimensionality of an array\n",
        "fashion_array = np.array([['MEC','Maybelline','l\\'oral Paris','Sephora','Fenty']], ndmin = 2)\n",
        "print(\"This is the fashion_array\", fashion_array)\n",
        "\n",
        "## We use ndim to check the dimensionality of an array\n",
        "\n",
        "print(\"This is the number of dimensions\", fashion_array.ndim)"
      ],
      "metadata": {
        "colab": {
          "base_uri": "https://localhost:8080/"
        },
        "id": "bkeGSxhdsnzU",
        "outputId": "5fbf8665-49be-4885-d6e6-f233721e8b40"
      },
      "execution_count": 12,
      "outputs": [
        {
          "output_type": "stream",
          "name": "stdout",
          "text": [
            "This is the fashion_array [['MEC' 'Maybelline' \"l'oral Paris\" 'Sephora' 'Fenty']]\n",
            "This is the number of dimensions 2\n"
          ]
        }
      ]
    },
    {
      "cell_type": "markdown",
      "source": [
        "## EXERCISES"
      ],
      "metadata": {
        "id": "k216sc-PtglH"
      }
    },
    {
      "cell_type": "markdown",
      "source": [
        "## Exercise 1\n",
        "\n",
        "Create an array of shape 5 by 4 from a function that takes in a start year and returns elements 12 years from the previous element. Example."
      ],
      "metadata": {
        "id": "EciF8A_H1Kks"
      }
    },
    {
      "cell_type": "code",
      "source": [
        "## Solution 1\n",
        "\n",
        "def year12(start_year,size,values):\n",
        "  start_value = start_year\n",
        "  step_size = size\n",
        "  num_values = values\n",
        "\n",
        "  # Generate the array\n",
        "  new_array = np.arange(start_year , start_value + step_size * num_values, step_size)\n",
        "\n",
        "  # Reshape the array into a 5 by 4 shape\n",
        "  reshaped_array = new_array.reshape((5, 4))\n",
        "  return reshaped_array\n",
        "\n",
        "year12(2023,12,20)"
      ],
      "metadata": {
        "colab": {
          "base_uri": "https://localhost:8080/"
        },
        "id": "hLc-8Tk0tE_t",
        "outputId": "4fc9e476-4cba-4684-ddb1-596b688e307e"
      },
      "execution_count": 15,
      "outputs": [
        {
          "output_type": "execute_result",
          "data": {
            "text/plain": [
              "array([[2023, 2035, 2047, 2059],\n",
              "       [2071, 2083, 2095, 2107],\n",
              "       [2119, 2131, 2143, 2155],\n",
              "       [2167, 2179, 2191, 2203],\n",
              "       [2215, 2227, 2239, 2251]])"
            ]
          },
          "metadata": {},
          "execution_count": 15
        }
      ]
    },
    {
      "cell_type": "code",
      "source": [
        "## Solution 2\n",
        "\n",
        "def year(start_year):\n",
        "  years = [[],[],[],[],[]]\n",
        "  for i in years:\n",
        "    counter = 0\n",
        "    while counter < 4:\n",
        "      counter+=1\n",
        "      i.append(start_year)\n",
        "      start_year+=12\n",
        "  return np.array(years)\n",
        "\n",
        "year(2023)\n"
      ],
      "metadata": {
        "colab": {
          "base_uri": "https://localhost:8080/"
        },
        "id": "fqDUlsCftfZv",
        "outputId": "97296151-c7a4-4901-9d1a-aca21c47f876"
      },
      "execution_count": 16,
      "outputs": [
        {
          "output_type": "execute_result",
          "data": {
            "text/plain": [
              "array([[2023, 2035, 2047, 2059],\n",
              "       [2071, 2083, 2095, 2107],\n",
              "       [2119, 2131, 2143, 2155],\n",
              "       [2167, 2179, 2191, 2203],\n",
              "       [2215, 2227, 2239, 2251]])"
            ]
          },
          "metadata": {},
          "execution_count": 16
        }
      ]
    },
    {
      "cell_type": "markdown",
      "source": [
        "## Exercise 2\n",
        "\n",
        "Using Pythagoras' Theorem, work out the hypotenuse of a triangle that with length as 3m and height as 4m. Save the measurements to the sides in a 1D array. c=√(a^2+b^2)\n",
        "\n",
        "Use at least two methods to find the hypotenuse."
      ],
      "metadata": {
        "id": "hPur24N12x-x"
      }
    },
    {
      "cell_type": "code",
      "source": [],
      "metadata": {
        "id": "Juq6xm2c2xZU"
      },
      "execution_count": null,
      "outputs": []
    },
    {
      "cell_type": "markdown",
      "source": [
        "# Bonus concepts\n",
        "\n",
        "Linspace vs arange in numpy\n",
        "linspace generates evenly spaced numbers over a specified interval. The interval is calculated automatically based on the specified number of values to generate.\n",
        "\n",
        "arange generates values within a specified range with a given step size. [The interval has to be specified]"
      ],
      "metadata": {
        "id": "0g1cMyxR2l2j"
      }
    },
    {
      "cell_type": "code",
      "source": [
        "## Solution 1\n",
        "\n",
        "def hypotenuse(a,b):\n",
        "  c = (a**2 + b**2)**0.5\n",
        "  return np.array([a,b,c], dtype=int)\n",
        "\n",
        "hypotenuse(4,3)"
      ],
      "metadata": {
        "colab": {
          "base_uri": "https://localhost:8080/"
        },
        "id": "LeTQYIwG2j5A",
        "outputId": "22fb33d7-f7f4-437e-fa28-d60443702a1e"
      },
      "execution_count": 22,
      "outputs": [
        {
          "output_type": "execute_result",
          "data": {
            "text/plain": [
              "array([4, 3, 5])"
            ]
          },
          "metadata": {},
          "execution_count": 22
        }
      ]
    },
    {
      "cell_type": "code",
      "source": [
        "## Solution 2\n",
        "\n",
        "def hypotenuse2 (a,b):\n",
        "  a = np.array([a])\n",
        "  b = np.array([b])\n",
        "\n",
        "  c = np.hypot(a, b)\n",
        "  print(c)\n",
        "\n",
        "hypotenuse2(3,4)"
      ],
      "metadata": {
        "colab": {
          "base_uri": "https://localhost:8080/"
        },
        "id": "vCF8_mGR3NlC",
        "outputId": "a8959d70-4ad3-49bb-a72d-7d2a7428ea2e"
      },
      "execution_count": 23,
      "outputs": [
        {
          "output_type": "stream",
          "name": "stdout",
          "text": [
            "[5.]\n"
          ]
        }
      ]
    },
    {
      "cell_type": "code",
      "source": [],
      "metadata": {
        "id": "FL7PPI9x6Wye"
      },
      "execution_count": null,
      "outputs": []
    }
  ]
}